{
 "cells": [
  {
   "cell_type": "markdown",
   "id": "2b7a4b74-a497-4cc9-ba78-bd2bf85d9161",
   "metadata": {},
   "source": [
    "# Simplex Algorithm\n",
    "\n",
    "Simplex algorithm was developed in 1947 by George Bernard Dantzig. The idea of the algorithm is to -\n",
    "\n",
    "Optimize:\n",
    "$$c_1x_1 + c_2x_2 + \\dots + c_nx_n$$\n",
    "\n",
    "subject to constraints:\n",
    "$$a_{11}x_1 + a_{12}x_2 + \\dots + a_{1n}x_n \\leq b_1$$\n",
    "$$a_{21}x_1 + a_{22}x_2 + \\dots + a_{2n}x_n \\leq b_2$$\n",
    "$$\\vdots$$\n",
    "$$a_{m1}x_1 + a_{m2}x_2 + \\dots + a_{mn}x_n \\leq b_m$$"
   ]
  },
  {
   "cell_type": "markdown",
   "id": "3d785452-7977-40b9-99f2-3a1fdc79d7a5",
   "metadata": {},
   "source": [
    "**Steps for Simplex Algorithm**\n",
    "\n",
    "The steps of the simplex algorithm is:\n",
    "1. Set the problem in standard (correct) format\n",
    "    - Set the objective function as maximum problem (if you have minimum problem multiply the objective function by $-1$\n",
    "    - Set all the constraints as $\\leq$ format (if there is a $\\geq$ constraint multiply both side of the constraint by $-1$)\n",
    "    - All the variables should be positive\n",
    "2. Add requisite slack variables (these variables are added to make $\\leq$ constraint into $=$ type)\n",
    "3. Create the initial simplex tableau\n",
    "4. Identify the Original Basis Solution corresponding to the basis variables\n",
    "5. Find the maximum -ve value in the last row (row of objective function) $\\rightarrow$ this will become our Pivot Column\n",
    "6. Find the minimum-non-negative ratio of RHS with the Pivot Column (this becomes exiting basis variable\n",
    "7. Use Gauss-Jordan elimination to make other elements (apart from entering variable) as Zero\n",
    "8. Create the revised tableu using elementary row operations\n",
    "9. Find the next maximum -ve value in the last row\n",
    "10. Stop when there are no -ve values in the last row"
   ]
  },
  {
   "cell_type": "code",
   "execution_count": null,
   "id": "4b0c0b60-dc08-4e74-bf98-9ad52bf9e270",
   "metadata": {},
   "outputs": [],
   "source": [
    "class simplex:\n",
    "    def __init__(self, A, b, c):\n",
    "        self.A = A\n",
    "        self.b = b\n",
    "        self.c = c"
   ]
  }
 ],
 "metadata": {
  "kernelspec": {
   "display_name": "Python 3 (ipykernel)",
   "language": "python",
   "name": "python3"
  },
  "language_info": {
   "codemirror_mode": {
    "name": "ipython",
    "version": 3
   },
   "file_extension": ".py",
   "mimetype": "text/x-python",
   "name": "python",
   "nbconvert_exporter": "python",
   "pygments_lexer": "ipython3",
   "version": "3.12.2"
  }
 },
 "nbformat": 4,
 "nbformat_minor": 5
}
